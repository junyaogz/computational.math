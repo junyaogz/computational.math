{
 "cells": [
  {
   "cell_type": "code",
   "execution_count": null,
   "id": "949a9d15",
   "metadata": {},
   "outputs": [],
   "source": [
    "# Lecture A-01\n",
    "a = list(range(50))\n",
    "print(a)"
   ]
  },
  {
   "cell_type": "code",
   "execution_count": null,
   "id": "94e3ae35",
   "metadata": {},
   "outputs": [],
   "source": [
    "# Lecture A-02\n",
    "# decimal to binary\n",
    "a = 3\n",
    "print(bin(a))"
   ]
  },
  {
   "cell_type": "code",
   "execution_count": null,
   "id": "78ea4fb9",
   "metadata": {},
   "outputs": [],
   "source": [
    "# binary to decimal\n",
    "b = 0b10\n",
    "print(int(b))"
   ]
  },
  {
   "cell_type": "code",
   "execution_count": 10,
   "id": "3ef423f9",
   "metadata": {},
   "outputs": [
    {
     "name": "stdout",
     "output_type": "stream",
     "text": [
      "x is odd\n"
     ]
    }
   ],
   "source": [
    "# Lecture A-03\n",
    "# Check Parity of Numbers\n",
    "# 2022-02-06\n",
    "\n",
    "x = 1478965895\n",
    "\n",
    "if x%2 == 0:\n",
    "    print(\"x is even\") #偶数\n",
    "else:\n",
    "    print(\"x is odd\")  #奇数"
   ]
  },
  {
   "cell_type": "code",
   "execution_count": null,
   "id": "cc1d505c",
   "metadata": {},
   "outputs": [],
   "source": [
    "# Lecture A-04"
   ]
  },
  {
   "cell_type": "code",
   "execution_count": null,
   "id": "55e252c6",
   "metadata": {},
   "outputs": [],
   "source": [
    "# Lecture A05\n",
    "s = 3\n",
    "if s > 2:\n",
    "    print(\"share it\")\n",
    "else:\n",
    "    print(\"eat it by myself\")\n",
    "\n",
    "s = 3 + 3\n",
    "s = \"Chelsia\"\n",
    "print(s)\n"
   ]
  },
  {
   "cell_type": "code",
   "execution_count": 6,
   "id": "83f54a2c",
   "metadata": {},
   "outputs": [
    {
     "name": "stdout",
     "output_type": "stream",
     "text": [
      "11\n"
     ]
    }
   ],
   "source": [
    "# Lecture A-06\n",
    "# variable 变量\n",
    "a = 3\n",
    "b = 100\n",
    "c = b - a + 3\n",
    "print(c)"
   ]
  },
  {
   "cell_type": "code",
   "execution_count": 9,
   "id": "1f681d94",
   "metadata": {},
   "outputs": [
    {
     "data": {
      "text/plain": [
       "13"
      ]
     },
     "execution_count": 9,
     "metadata": {},
     "output_type": "execute_result"
    }
   ],
   "source": [
    "a = \"Alan\"\n",
    "b = 'Emmy'\n",
    "c = \"Ice Cream\"\n",
    "d = \"Dad is afraid\"\n",
    "# Function 函数\n",
    "# length\n",
    "len(a)\n",
    "len(c)\n",
    "len(d)\n"
   ]
  },
  {
   "cell_type": "code",
   "execution_count": null,
   "id": "8f252d73",
   "metadata": {},
   "outputs": [],
   "source": [
    "# + - *  operator 操作符\n",
    "# 3,5,9  operand  操作数\n",
    "3 + 5\n",
    "13-6+7\n"
   ]
  },
  {
   "cell_type": "markdown",
   "id": "782b009e",
   "metadata": {},
   "source": [
    "Lecture A-08\n",
    "\n",
    "$>=$ or $\\ge$ greater or equal to\n",
    "\n",
    "$==$ equal to \n",
    "\n",
    "$<=$ or $\\le$ less or equal to\n",
    "\n",
    "$2^3 + 5*3 - 6 +2= 19$"
   ]
  },
  {
   "cell_type": "code",
   "execution_count": 1,
   "id": "af8c0a9d",
   "metadata": {},
   "outputs": [
    {
     "name": "stdout",
     "output_type": "stream",
     "text": [
      "True\n"
     ]
    }
   ],
   "source": [
    "print(3==3)"
   ]
  },
  {
   "cell_type": "code",
   "execution_count": 2,
   "id": "fca0a121",
   "metadata": {},
   "outputs": [
    {
     "name": "stdout",
     "output_type": "stream",
     "text": [
      "3\n"
     ]
    }
   ],
   "source": [
    "a = 3\n",
    "print(a)"
   ]
  },
  {
   "cell_type": "code",
   "execution_count": 6,
   "id": "dd2a2f93",
   "metadata": {},
   "outputs": [
    {
     "name": "stdout",
     "output_type": "stream",
     "text": [
      "True\n"
     ]
    }
   ],
   "source": [
    "print(a<=3)"
   ]
  },
  {
   "cell_type": "code",
   "execution_count": 11,
   "id": "9f3c8dbe",
   "metadata": {},
   "outputs": [
    {
     "name": "stdout",
     "output_type": "stream",
     "text": [
      "3\n",
      "a<=3\n"
     ]
    }
   ],
   "source": [
    "a = len(\"big muzzy\") - 6\n",
    "print(a)\n",
    "if a > 4:\n",
    "    print(\"a>4\")\n",
    "elif a > 3:\n",
    "    print(\"a>3\")\n",
    "else:\n",
    "    print(\"a<=3\")\n",
    "    "
   ]
  },
  {
   "cell_type": "markdown",
   "id": "401235d0",
   "metadata": {},
   "source": [
    "Lecture A-09  \n",
    "what is an array  数组、列表\n",
    "indices of array  index 索引\n",
    "locate the position of an element  \n",
    "recap, if/elif/else  \n",
    "recap, order of computation  "
   ]
  },
  {
   "cell_type": "code",
   "execution_count": 6,
   "id": "5b34ba37",
   "metadata": {},
   "outputs": [
    {
     "name": "stdout",
     "output_type": "stream",
     "text": [
      "[7, 6, 6]\n"
     ]
    }
   ],
   "source": [
    "arr = [0,1,2,3,4,5]\n",
    "\n",
    "b = [3,8,9,7,6,6,7,8,9,0,115]\n",
    "print(b[3:6])"
   ]
  },
  {
   "cell_type": "code",
   "execution_count": 15,
   "id": "bc781bdb",
   "metadata": {},
   "outputs": [
    {
     "name": "stdout",
     "output_type": "stream",
     "text": [
      "['Alan', 'Bob', 'Corvax', 'Sylvia']\n"
     ]
    }
   ],
   "source": [
    "b = [\"Alan\", \"Bob\", \"Corvax\", \"Sylvia\", \"King\", \"Timbo\"]\n",
    "print(b[0:4])"
   ]
  },
  {
   "cell_type": "markdown",
   "id": "65be3b1a",
   "metadata": {},
   "source": [
    "Lecture 10  \n",
    "slicing  slice切片 arr[a:b]\n",
    "recap, indices of array   "
   ]
  },
  {
   "cell_type": "code",
   "execution_count": 1,
   "id": "c0f36cbb",
   "metadata": {},
   "outputs": [
    {
     "name": "stdout",
     "output_type": "stream",
     "text": [
      "[6, 7]\n",
      "[3, 4, 6, 7, 8, 9, 10, 11]\n",
      "[3, 4, 6, 7, 8, 9, 10, 11]\n",
      "[4, 6, 7, 8, 9, 10, 11]\n",
      "[7, 8, 9, 10, 11]\n",
      "[8, 9]\n"
     ]
    }
   ],
   "source": [
    "arr = [3,4,6,7,8,9,10,11]\n",
    "print(arr[2:4])\n",
    "print(arr[0:8])\n",
    "print(arr[0:])\n",
    "print(arr[1:])\n",
    "print(arr[3:])\n",
    "print(arr[4:6])"
   ]
  },
  {
   "cell_type": "code",
   "execution_count": 7,
   "id": "92b15e2d",
   "metadata": {},
   "outputs": [
    {
     "name": "stdout",
     "output_type": "stream",
     "text": [
      "[8, 9, 10, 11]\n"
     ]
    }
   ],
   "source": [
    "print(arr[4:])"
   ]
  },
  {
   "cell_type": "markdown",
   "id": "fb5a2a1d",
   "metadata": {},
   "source": [
    "Lecture A11\n",
    "Range范围"
   ]
  },
  {
   "cell_type": "code",
   "execution_count": 4,
   "id": "175efef7",
   "metadata": {},
   "outputs": [
    {
     "name": "stdout",
     "output_type": "stream",
     "text": [
      "[0, 1, 2, 3, 4]\n"
     ]
    }
   ],
   "source": [
    "# range(0,5)\n",
    "print(list(range(0,5)))"
   ]
  },
  {
   "cell_type": "code",
   "execution_count": 6,
   "id": "e3a4231c",
   "metadata": {},
   "outputs": [
    {
     "name": "stdout",
     "output_type": "stream",
     "text": [
      "0\n",
      "1\n",
      "2\n",
      "3\n",
      "4\n",
      "5\n",
      "6\n"
     ]
    }
   ],
   "source": [
    "for i in range(0,7):\n",
    "    print(i)\n",
    "# i = 0\n",
    "# i = 1\n",
    "# i = 2\n",
    "# ...\n",
    "# i = 6"
   ]
  },
  {
   "cell_type": "code",
   "execution_count": 21,
   "id": "575860f2",
   "metadata": {},
   "outputs": [
    {
     "data": {
      "text/plain": [
       "[0, 1, 2, 3, 4]"
      ]
     },
     "execution_count": 21,
     "metadata": {},
     "output_type": "execute_result"
    }
   ],
   "source": [
    "# range(start, end)\n",
    "# range(end)\n",
    "list(range(5))\n",
    "list(range(0,5))"
   ]
  },
  {
   "cell_type": "code",
   "execution_count": 20,
   "id": "419f087e",
   "metadata": {},
   "outputs": [
    {
     "name": "stdout",
     "output_type": "stream",
     "text": [
      "17\n",
      "h\n",
      "o\n",
      "w\n",
      " \n",
      "d\n",
      "o\n",
      "e\n",
      "s\n",
      " \n",
      "i\n",
      "t\n",
      " \n",
      "w\n",
      "o\n",
      "r\n",
      "k\n",
      "?\n"
     ]
    }
   ],
   "source": [
    "name = \"how does it work?\"\n",
    "b = len(name)\n",
    "print(b)\n",
    "for i in range(b):\n",
    "    print(name[i])\n"
   ]
  },
  {
   "cell_type": "code",
   "execution_count": 18,
   "id": "7ff2520f",
   "metadata": {},
   "outputs": [
    {
     "name": "stdout",
     "output_type": "stream",
     "text": [
      " \n"
     ]
    }
   ],
   "source": [
    "print(name[3])"
   ]
  },
  {
   "cell_type": "markdown",
   "id": "5ad01e43",
   "metadata": {},
   "source": [
    "Lecture 12  \n",
    "for loop  \n",
    "recap, range  \n",
    "recap, array  "
   ]
  },
  {
   "cell_type": "code",
   "execution_count": 1,
   "id": "42bfbe49",
   "metadata": {},
   "outputs": [
    {
     "name": "stdout",
     "output_type": "stream",
     "text": [
      "1\n",
      "2\n",
      "3\n",
      "4\n",
      "5\n"
     ]
    }
   ],
   "source": [
    "print(1)\n",
    "print(2)\n",
    "print(3)\n",
    "print(4)\n",
    "print(5)"
   ]
  },
  {
   "cell_type": "code",
   "execution_count": 5,
   "id": "d502668c",
   "metadata": {},
   "outputs": [
    {
     "name": "stdout",
     "output_type": "stream",
     "text": [
      "1\n",
      "2\n",
      "3\n",
      "4\n",
      "5\n",
      "1000\n"
     ]
    }
   ],
   "source": [
    "i = 1\n",
    "print(i)\n",
    "i = 2\n",
    "print(i)\n",
    "i = 3\n",
    "print(i)\n",
    "i = 4\n",
    "print(i)\n",
    "i = 5\n",
    "print(i)\n",
    "\n",
    "i =1000\n",
    "print(i)"
   ]
  },
  {
   "cell_type": "code",
   "execution_count": 8,
   "id": "8be75780",
   "metadata": {},
   "outputs": [
    {
     "name": "stdout",
     "output_type": "stream",
     "text": [
      "1\n",
      "2\n",
      "3\n",
      "4\n",
      "5\n"
     ]
    }
   ],
   "source": [
    "for i in range(1,6):\n",
    "    print(i)"
   ]
  },
  {
   "cell_type": "code",
   "execution_count": 9,
   "id": "9f60a755",
   "metadata": {},
   "outputs": [
    {
     "name": "stdout",
     "output_type": "stream",
     "text": [
      "10\n",
      "11\n",
      "12\n",
      "13\n",
      "14\n",
      "15\n",
      "16\n",
      "17\n",
      "18\n",
      "19\n"
     ]
    }
   ],
   "source": [
    "for i in range(10,20):\n",
    "    print(i)\n"
   ]
  },
  {
   "cell_type": "code",
   "execution_count": 10,
   "id": "b957de1a",
   "metadata": {},
   "outputs": [
    {
     "name": "stdout",
     "output_type": "stream",
     "text": [
      "1\n",
      "3\n",
      "5\n",
      "7\n",
      "9\n"
     ]
    }
   ],
   "source": [
    "arr = [1,3,5,7,9]\n",
    "for i in arr:\n",
    "    print(i)"
   ]
  },
  {
   "cell_type": "code",
   "execution_count": 11,
   "id": "0e3d5e26",
   "metadata": {},
   "outputs": [
    {
     "name": "stdout",
     "output_type": "stream",
     "text": [
      "shenzhen\n",
      "united kingdom\n",
      "Germany\n",
      "guangzhou\n"
     ]
    }
   ],
   "source": [
    "cities = [\"shenzhen\", \"united kingdom\", \"Germany\", \"guangzhou\"]\n",
    "for b in cities:\n",
    "    print(b)"
   ]
  },
  {
   "cell_type": "code",
   "execution_count": 12,
   "id": "d79566de",
   "metadata": {},
   "outputs": [
    {
     "name": "stdout",
     "output_type": "stream",
     "text": [
      "0\n",
      "2\n",
      "4\n",
      "6\n",
      "8\n",
      "10\n",
      "12\n",
      "14\n",
      "16\n",
      "18\n",
      "20\n"
     ]
    }
   ],
   "source": [
    "Alan  =[0,2,4,6,8,10,12,14,16,18,20]\n",
    "for  c in Alan:\n",
    "    print(c)"
   ]
  },
  {
   "cell_type": "code",
   "execution_count": 13,
   "id": "7fc1ced2",
   "metadata": {},
   "outputs": [
    {
     "name": "stdout",
     "output_type": "stream",
     "text": [
      "4\n",
      "9\n",
      "16\n",
      "25\n",
      "36\n",
      "49\n",
      "64\n",
      "81\n"
     ]
    }
   ],
   "source": [
    "numbers = [2,3,4,5,6,7,8,9]\n",
    "# calculate the squares\n",
    "for i in numbers:\n",
    "    print(i*i)"
   ]
  },
  {
   "cell_type": "markdown",
   "id": "f61490be",
   "metadata": {},
   "source": [
    "Lecture 13"
   ]
  },
  {
   "cell_type": "code",
   "execution_count": 11,
   "id": "44e8ed94",
   "metadata": {},
   "outputs": [
    {
     "name": "stdout",
     "output_type": "stream",
     "text": [
      "0x0=0\t 0x1=0\t 0x2=0\t 0x3=0\t 0x4=0\t 0x5=0\t 0x6=0\t 0x7=0\t 0x8=0\t 0x9=0\t \n",
      "\n",
      "1x0=0\t 1x1=1\t 1x2=2\t 1x3=3\t 1x4=4\t 1x5=5\t 1x6=6\t 1x7=7\t 1x8=8\t 1x9=9\t \n",
      "\n",
      "2x0=0\t 2x1=2\t 2x2=4\t 2x3=6\t 2x4=8\t 2x5=10\t 2x6=12\t 2x7=14\t 2x8=16\t 2x9=18\t \n",
      "\n",
      "3x0=0\t 3x1=3\t 3x2=6\t 3x3=9\t 3x4=12\t 3x5=15\t 3x6=18\t 3x7=21\t 3x8=24\t 3x9=27\t \n",
      "\n",
      "4x0=0\t 4x1=4\t 4x2=8\t 4x3=12\t 4x4=16\t 4x5=20\t 4x6=24\t 4x7=28\t 4x8=32\t 4x9=36\t \n",
      "\n",
      "5x0=0\t 5x1=5\t 5x2=10\t 5x3=15\t 5x4=20\t 5x5=25\t 5x6=30\t 5x7=35\t 5x8=40\t 5x9=45\t \n",
      "\n",
      "6x0=0\t 6x1=6\t 6x2=12\t 6x3=18\t 6x4=24\t 6x5=30\t 6x6=36\t 6x7=42\t 6x8=48\t 6x9=54\t \n",
      "\n",
      "7x0=0\t 7x1=7\t 7x2=14\t 7x3=21\t 7x4=28\t 7x5=35\t 7x6=42\t 7x7=49\t 7x8=56\t 7x9=63\t \n",
      "\n",
      "8x0=0\t 8x1=8\t 8x2=16\t 8x3=24\t 8x4=32\t 8x5=40\t 8x6=48\t 8x7=56\t 8x8=64\t 8x9=72\t \n",
      "\n",
      "9x0=0\t 9x1=9\t 9x2=18\t 9x3=27\t 9x4=36\t 9x5=45\t 9x6=54\t 9x7=63\t 9x8=72\t 9x9=81\t \n",
      "\n"
     ]
    }
   ],
   "source": [
    "for i in range(10):\n",
    "    for j in range(10):\n",
    "        print(f\"{i}x{j}={i*j}\\t\",end=\" \")\n",
    "    print(\"\\n\")"
   ]
  },
  {
   "cell_type": "code",
   "execution_count": 30,
   "id": "d9cc62bf",
   "metadata": {},
   "outputs": [
    {
     "name": "stdout",
     "output_type": "stream",
     "text": [
      "0x0=0\t 0x1=0\t 0x2=0\t 0x3=0\t 0x4=0\t 0x5=0\t 0x6=0\t 0x7=0\t 0x8=0\t 0x9=0\t \n",
      "\n",
      "1x0=0\t 1x1=1\t 1x2=2\t 1x3=3\t 1x4=4\t 1x5=5\t 1x6=6\t 1x7=7\t 1x8=8\t 1x9=9\t \n",
      "\n",
      "2x0=0\t 2x1=2\t 2x2=4\t 2x3=6\t 2x4=8\t 2x5=10\t 2x6=12\t 2x7=14\t 2x8=16\t 2x9=18\t \n",
      "\n",
      "3x0=0\t 3x1=3\t 3x2=6\t 3x3=9\t 3x4=12\t 3x5=15\t 3x6=18\t 3x7=21\t 3x8=24\t 3x9=27\t \n",
      "\n",
      "4x0=0\t 4x1=4\t 4x2=8\t 4x3=12\t 4x4=16\t 4x5=20\t 4x6=24\t 4x7=28\t 4x8=32\t 4x9=36\t \n",
      "\n",
      "5x0=0\t 5x1=5\t 5x2=10\t 5x3=15\t 5x4=20\t 5x5=25\t 5x6=30\t 5x7=35\t 5x8=40\t 5x9=45\t \n",
      "\n",
      "6x0=0\t 6x1=6\t 6x2=12\t 6x3=18\t 6x4=24\t 6x5=30\t 6x6=36\t 6x7=42\t 6x8=48\t 6x9=54\t \n",
      "\n",
      "7x0=0\t 7x1=7\t 7x2=14\t 7x3=21\t 7x4=28\t 7x5=35\t 7x6=42\t 7x7=49\t 7x8=56\t 7x9=63\t \n",
      "\n",
      "8x0=0\t 8x1=8\t 8x2=16\t 8x3=24\t 8x4=32\t 8x5=40\t 8x6=48\t 8x7=56\t 8x8=64\t 8x9=72\t \n",
      "\n",
      "9x0=0\t 9x1=9\t 9x2=18\t 9x3=27\t 9x4=36\t 9x5=45\t 9x6=54\t 9x7=63\t 9x8=72\t 9x9=81\t \n",
      "\n"
     ]
    }
   ],
   "source": [
    "for i in range(10):\n",
    "    for j in range(10):\n",
    "        print(f\"{i}x{j}={i*j}\\t\",end=\" \")\n",
    "    print(\"\\n\")"
   ]
  },
  {
   "cell_type": "markdown",
   "id": "169a0332",
   "metadata": {},
   "source": [
    "Lecture 15:  \n",
    "tables and 2d array  \n",
    "coordinates x and y  "
   ]
  },
  {
   "cell_type": "code",
   "execution_count": 9,
   "id": "55c4d8d0",
   "metadata": {},
   "outputs": [
    {
     "name": "stdout",
     "output_type": "stream",
     "text": [
      "2 5 7 3 8 \n",
      "\n",
      "3 1 0 2 9 \n",
      "\n",
      "2 7 3 0 4 \n",
      "\n",
      "0 1 2 8 7 \n",
      "\n",
      "3\n",
      "2\n",
      "0\n",
      "[3, 1, 0, 2, 9]\n",
      "[0, 1, 2, 8, 7]\n",
      "[1, 3, 5, 7, 9]\n"
     ]
    }
   ],
   "source": [
    "A = [\n",
    "    [2, 5, 7, 3, 8],\n",
    "    [3, 1, 0, 2, 9],\n",
    "    [2, 7, 3, 0, 4],\n",
    "    [0, 1, 2, 8, 7],\n",
    "    [1, 3, 5, 7, 9]\n",
    "]\n",
    "\n",
    "for i in range(4):\n",
    "    for j in range(5):\n",
    "        print(f\"{A[i][j]}\", end=\" \")\n",
    "    print(\"\\n\")\n",
    "    \n",
    "print(A[0][3])\n",
    "print(A[3][2])\n",
    "print(A[2][3])\n",
    "print(A[1])\n",
    "print(A[3])\n",
    "print(A[4])"
   ]
  },
  {
   "cell_type": "markdown",
   "id": "bbad7e0f",
   "metadata": {},
   "source": [
    "# lecture 16\n",
    "IDE = integrated development environment   \n",
    "文件浏览器  \n",
    "项目浏览器  \n",
    "代码编辑器  \n",
    "命令行窗口  \n",
    "结果输出窗口  \n",
    "\n",
    "调试  \n",
    "断点  \n",
    "\n"
   ]
  },
  {
   "cell_type": "code",
   "execution_count": null,
   "id": "e4cc217b",
   "metadata": {},
   "outputs": [],
   "source": [
    "\n",
    "A = [\n",
    "    [2, 5, 7, 3, 8],\n",
    "    [3, 1, 0, 5, 9],\n",
    "    [2, 7, 3, 0, 4]\n",
    "]\n",
    "\n",
    "for i in range(3):\n",
    "    for j in range(5):\n",
    "        print(f\"{A[i][j]}\", end=\" \")\n",
    "    print(\"\\n\")\n"
   ]
  },
  {
   "cell_type": "markdown",
   "id": "86a060c9",
   "metadata": {},
   "source": [
    "# lecture 17  \n",
    "flag variable \n",
    "while condition:\n",
    "    xxx\n",
    "    xxx"
   ]
  },
  {
   "cell_type": "code",
   "execution_count": 1,
   "id": "139854d4",
   "metadata": {},
   "outputs": [
    {
     "name": "stdout",
     "output_type": "stream",
     "text": [
      "eat a bonbon\n",
      "eat a bonbon\n",
      "eat a bonbon\n",
      "eat a bonbon\n",
      "eat a bonbon\n",
      "eat a bonbon\n",
      "eat a bonbon\n",
      "eat a bonbon\n",
      "eat a bonbon\n",
      "eat a bonbon\n"
     ]
    }
   ],
   "source": [
    "hasBonbon = True\n",
    "num = 10\n",
    "while hasBonbon:\n",
    "    print(\"eat a bonbon\")\n",
    "    num = num - 1\n",
    "    if num == 0:\n",
    "        hasBonbon = False"
   ]
  },
  {
   "cell_type": "code",
   "execution_count": null,
   "id": "7ee024eb",
   "metadata": {},
   "outputs": [],
   "source": [
    "hasChips = True\n",
    "num = 5\n",
    "while hasChips:\n",
    "    print(\"eat a chip\")\n",
    "    num -= 1 # num = num - 1\n",
    "    if num == 0:\n",
    "        hasChips = False\n",
    "\n",
    "print(\"print by for loop:\")\n",
    "cities = [\"guangzhou\",\"shenzhen\",\"shanghai\",\"beijing\",\"yangjiang\",\"jiangxi\"]\n",
    "for i in range(len(cities)):\n",
    "    print(cities[i])\n",
    "\n",
    "print(\"print by while loop\")\n",
    "i = 0\n",
    "while i<len(cities):\n",
    "    print(cities[i])\n",
    "    i += 1"
   ]
  },
  {
   "cell_type": "markdown",
   "id": "fedd28e3",
   "metadata": {},
   "source": [
    "# Lecture 18\n",
    "while loop, break  \n",
    "logical operators: and/or  "
   ]
  },
  {
   "cell_type": "code",
   "execution_count": null,
   "id": "ccf163f9",
   "metadata": {},
   "outputs": [],
   "source": [
    "numbers = [1,3,5,7,9,11]\n",
    "i = 0\n",
    "while i<len(numbers):\n",
    "    print(numbers[i])\n",
    "    i += 1\n",
    "    if i>3:\n",
    "        break"
   ]
  },
  {
   "cell_type": "code",
   "execution_count": null,
   "id": "a52dcc42",
   "metadata": {},
   "outputs": [],
   "source": [
    "a = 1\n",
    "b = 3\n",
    "print(a==1)\n",
    "print(b==3)\n",
    "print(a>0)\n",
    "print(a>1)\n",
    "print(b>2)\n",
    "print(b>3)\n",
    "print(\"logical operators and/or:\")\n",
    "print(a>0 and b>2)\n",
    "print(a>1 and b>3)\n",
    "print(a>0 and b>3)\n",
    "print(a>0 or b>3)\n",
    "print(a>1 or b>2)\n",
    "print(a>1 or b>3)"
   ]
  },
  {
   "cell_type": "code",
   "execution_count": null,
   "id": "8365a7e6",
   "metadata": {},
   "outputs": [],
   "source": [
    "numbers = [2, 0, 1, 5, 3, 7]\n",
    "i = 0\n",
    "while i < len(numbers):\n",
    "    if numbers[i] > 3:\n",
    "        print(numbers[i])\n",
    "    i += 1"
   ]
  },
  {
   "cell_type": "markdown",
   "id": "f60a0ad5",
   "metadata": {},
   "source": [
    "# Lecture 19\n",
    "applications of if, and/or  \n",
    "graphic basics, draw a line/circle  "
   ]
  },
  {
   "cell_type": "code",
   "execution_count": 21,
   "id": "bf1458f0",
   "metadata": {
    "scrolled": true
   },
   "outputs": [
    {
     "data": {
      "image/png": "[encoded data removed]",
      "text/plain": [
       "<Figure size 360x360 with 1 Axes>"
      ]
     },
     "metadata": {
      "needs_background": "light"
     },
     "output_type": "display_data"
    }
   ],
   "source": [
    "from matplotlib import pyplot as plt\n",
    "plt.figure(figsize=(5,5))\n",
    "plt.xlim(0,10)\n",
    "plt.ylim(0,10)\n",
    "plt.xlabel(\"x\")\n",
    "plt.ylabel(\"y\")\n",
    "plt.title('a line')\n",
    "\n",
    "x = [2,6]\n",
    "y = [4,8]\n",
    "plt.plot(x,y,'bo-')\n",
    "\n",
    "plt.show()"
   ]
  },
  {
   "cell_type": "code",
   "execution_count": 22,
   "id": "219b4ec6",
   "metadata": {},
   "outputs": [
    {
     "data": {
      "image/png": "[encoded data removed]",
      "text/plain": [
       "<Figure size 360x360 with 1 Axes>"
      ]
     },
     "metadata": {
      "needs_background": "light"
     },
     "output_type": "display_data"
    }
   ],
   "source": [
    "from matplotlib import pyplot as plt\n",
    "plt.figure(figsize=(5,5))\n",
    "plt.xlim(0,10)\n",
    "plt.ylim(0,10)\n",
    "plt.xlabel(\"x\")\n",
    "plt.ylabel(\"y\")\n",
    "plt.title('a line')\n",
    "\n",
    "x = [2,2,6,6,2]\n",
    "y = [2,6,6,2,2]\n",
    "plt.plot(x,y,'bo-')\n",
    "\n",
    "plt.show()"
   ]
  },
  {
   "cell_type": "code",
   "execution_count": null,
   "id": "b7bd3071",
   "metadata": {},
   "outputs": [],
   "source": []
  }
 ],
 "metadata": {
  "kernelspec": {
   "display_name": "Python 3",
   "language": "python",
   "name": "python3"
  },
  "language_info": {
   "codemirror_mode": {
    "name": "ipython",
    "version": 3
   },
   "file_extension": ".py",
   "mimetype": "text/x-python",
   "name": "python",
   "nbconvert_exporter": "python",
   "pygments_lexer": "ipython3",
   "version": "3.8.8"
  }
 },
 "nbformat": 4,
 "nbformat_minor": 5
}

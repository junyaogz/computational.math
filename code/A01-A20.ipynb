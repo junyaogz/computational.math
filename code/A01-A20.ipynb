{
 "cells": [
  {
   "cell_type": "code",
   "execution_count": null,
   "id": "949a9d15",
   "metadata": {},
   "outputs": [],
   "source": [
    "# Lecture A-01\n",
    "a = list(range(50))\n",
    "print(a)"
   ]
  },
  {
   "cell_type": "code",
   "execution_count": null,
   "id": "94e3ae35",
   "metadata": {},
   "outputs": [],
   "source": [
    "# Lecture A-02\n",
    "# decimal to binary\n",
    "a = 3\n",
    "print(bin(a))"
   ]
  },
  {
   "cell_type": "code",
   "execution_count": null,
   "id": "78ea4fb9",
   "metadata": {},
   "outputs": [],
   "source": [
    "# binary to decimal\n",
    "b = 0b10\n",
    "print(int(b))"
   ]
  },
  {
   "cell_type": "code",
   "execution_count": 10,
   "id": "3ef423f9",
   "metadata": {},
   "outputs": [
    {
     "name": "stdout",
     "output_type": "stream",
     "text": [
      "x is odd\n"
     ]
    }
   ],
   "source": [
    "# Lecture A-03\n",
    "# Check Parity of Numbers\n",
    "# 2022-02-06\n",
    "\n",
    "x = 1478965895\n",
    "\n",
    "if x%2 == 0:\n",
    "    print(\"x is even\") #偶数\n",
    "else:\n",
    "    print(\"x is odd\")  #奇数"
   ]
  },
  {
   "cell_type": "code",
   "execution_count": null,
   "id": "cc1d505c",
   "metadata": {},
   "outputs": [],
   "source": [
    "# Lecture A-04"
   ]
  },
  {
   "cell_type": "code",
   "execution_count": null,
   "id": "55e252c6",
   "metadata": {},
   "outputs": [],
   "source": [
    "# Lecture A05\n",
    "s = 3\n",
    "if s > 2:\n",
    "    print(\"share it\")\n",
    "else:\n",
    "    print(\"eat it by myself\")\n",
    "\n",
    "s = 3 + 3\n",
    "s = \"Chelsia\"\n",
    "print(s)\n"
   ]
  },
  {
   "cell_type": "code",
   "execution_count": 6,
   "id": "83f54a2c",
   "metadata": {},
   "outputs": [
    {
     "name": "stdout",
     "output_type": "stream",
     "text": [
      "11\n"
     ]
    }
   ],
   "source": [
    "# Lecture A-06\n",
    "# variable 变量\n",
    "a = 3\n",
    "b = 100\n",
    "c = b - a + 3\n",
    "print(c)"
   ]
  },
  {
   "cell_type": "code",
   "execution_count": 9,
   "id": "1f681d94",
   "metadata": {},
   "outputs": [
    {
     "data": {
      "text/plain": [
       "13"
      ]
     },
     "execution_count": 9,
     "metadata": {},
     "output_type": "execute_result"
    }
   ],
   "source": [
    "a = \"Alan\"\n",
    "b = 'Emmy'\n",
    "c = \"Ice Cream\"\n",
    "d = \"Dad is afraid\"\n",
    "# Function 函数\n",
    "# length\n",
    "len(a)\n",
    "len(c)\n",
    "len(d)\n"
   ]
  },
  {
   "cell_type": "code",
   "execution_count": null,
   "id": "8f252d73",
   "metadata": {},
   "outputs": [],
   "source": [
    "# + - *  operator 操作符\n",
    "# 3,5,9  operand  操作数\n",
    "3 + 5\n",
    "13-6+7\n"
   ]
  },
  {
   "cell_type": "markdown",
   "id": "782b009e",
   "metadata": {},
   "source": [
    "Lecture A-08\n",
    "\n",
    "$>=$ or $\\ge$ greater or equal to\n",
    "\n",
    "$==$ equal to \n",
    "\n",
    "$<=$ or $\\le$ less or equal to\n",
    "\n",
    "$2^3 + 5*3 - 6 +2= 19$"
   ]
  },
  {
   "cell_type": "code",
   "execution_count": 1,
   "id": "af8c0a9d",
   "metadata": {},
   "outputs": [
    {
     "name": "stdout",
     "output_type": "stream",
     "text": [
      "True\n"
     ]
    }
   ],
   "source": [
    "print(3==3)"
   ]
  },
  {
   "cell_type": "code",
   "execution_count": 2,
   "id": "fca0a121",
   "metadata": {},
   "outputs": [
    {
     "name": "stdout",
     "output_type": "stream",
     "text": [
      "3\n"
     ]
    }
   ],
   "source": [
    "a = 3\n",
    "print(a)"
   ]
  },
  {
   "cell_type": "code",
   "execution_count": 6,
   "id": "dd2a2f93",
   "metadata": {},
   "outputs": [
    {
     "name": "stdout",
     "output_type": "stream",
     "text": [
      "True\n"
     ]
    }
   ],
   "source": [
    "print(a<=3)"
   ]
  },
  {
   "cell_type": "code",
   "execution_count": 11,
   "id": "9f3c8dbe",
   "metadata": {},
   "outputs": [
    {
     "name": "stdout",
     "output_type": "stream",
     "text": [
      "3\n",
      "a<=3\n"
     ]
    }
   ],
   "source": [
    "a = len(\"big muzzy\") - 6\n",
    "print(a)\n",
    "if a > 4:\n",
    "    print(\"a>4\")\n",
    "elif a > 3:\n",
    "    print(\"a>3\")\n",
    "else:\n",
    "    print(\"a<=3\")\n",
    "    "
   ]
  },
  {
   "cell_type": "markdown",
   "id": "401235d0",
   "metadata": {},
   "source": [
    "Lecture A-09  \n",
    "what is an array  数组、列表\n",
    "indices of array  index 索引\n",
    "locate the position of an element  \n",
    "recap, if/elif/else  \n",
    "recap, order of computation  "
   ]
  },
  {
   "cell_type": "code",
   "execution_count": 6,
   "id": "5b34ba37",
   "metadata": {},
   "outputs": [
    {
     "name": "stdout",
     "output_type": "stream",
     "text": [
      "[7, 6, 6]\n"
     ]
    }
   ],
   "source": [
    "arr = [0,1,2,3,4,5]\n",
    "\n",
    "b = [3,8,9,7,6,6,7,8,9,0,115]\n",
    "print(b[3:6])"
   ]
  },
  {
   "cell_type": "code",
   "execution_count": 15,
   "id": "bc781bdb",
   "metadata": {},
   "outputs": [
    {
     "name": "stdout",
     "output_type": "stream",
     "text": [
      "['Alan', 'Bob', 'Corvax', 'Sylvia']\n"
     ]
    }
   ],
   "source": [
    "b = [\"Alan\", \"Bob\", \"Corvax\", \"Sylvia\", \"King\", \"Timbo\"]\n",
    "print(b[0:4])"
   ]
  },
  {
   "cell_type": "markdown",
   "id": "65be3b1a",
   "metadata": {},
   "source": [
    "Lecture 10  \n",
    "slicing  slice切片 arr[a:b]\n",
    "recap, indices of array   "
   ]
  },
  {
   "cell_type": "code",
   "execution_count": 1,
   "id": "c0f36cbb",
   "metadata": {},
   "outputs": [
    {
     "name": "stdout",
     "output_type": "stream",
     "text": [
      "[6, 7]\n",
      "[3, 4, 6, 7, 8, 9, 10, 11]\n",
      "[3, 4, 6, 7, 8, 9, 10, 11]\n",
      "[4, 6, 7, 8, 9, 10, 11]\n",
      "[7, 8, 9, 10, 11]\n",
      "[8, 9]\n"
     ]
    }
   ],
   "source": [
    "arr = [3,4,6,7,8,9,10,11]\n",
    "print(arr[2:4])\n",
    "print(arr[0:8])\n",
    "print(arr[0:])\n",
    "print(arr[1:])\n",
    "print(arr[3:])\n",
    "print(arr[4:6])"
   ]
  },
  {
   "cell_type": "code",
   "execution_count": 7,
   "id": "92b15e2d",
   "metadata": {},
   "outputs": [
    {
     "name": "stdout",
     "output_type": "stream",
     "text": [
      "[8, 9, 10, 11]\n"
     ]
    }
   ],
   "source": [
    "print(arr[4:])"
   ]
  },
  {
   "cell_type": "markdown",
   "id": "fb5a2a1d",
   "metadata": {},
   "source": [
    "Lecture A11\n",
    "Range范围"
   ]
  },
  {
   "cell_type": "code",
   "execution_count": 4,
   "id": "175efef7",
   "metadata": {},
   "outputs": [
    {
     "name": "stdout",
     "output_type": "stream",
     "text": [
      "[0, 1, 2, 3, 4]\n"
     ]
    }
   ],
   "source": [
    "# range(0,5)\n",
    "print(list(range(0,5)))"
   ]
  },
  {
   "cell_type": "code",
   "execution_count": 6,
   "id": "e3a4231c",
   "metadata": {},
   "outputs": [
    {
     "name": "stdout",
     "output_type": "stream",
     "text": [
      "0\n",
      "1\n",
      "2\n",
      "3\n",
      "4\n",
      "5\n",
      "6\n"
     ]
    }
   ],
   "source": [
    "for i in range(0,7):\n",
    "    print(i)\n",
    "# i = 0\n",
    "# i = 1\n",
    "# i = 2\n",
    "# ...\n",
    "# i = 6"
   ]
  },
  {
   "cell_type": "code",
   "execution_count": 21,
   "id": "575860f2",
   "metadata": {},
   "outputs": [
    {
     "data": {
      "text/plain": [
       "[0, 1, 2, 3, 4]"
      ]
     },
     "execution_count": 21,
     "metadata": {},
     "output_type": "execute_result"
    }
   ],
   "source": [
    "# range(start, end)\n",
    "# range(end)\n",
    "list(range(5))\n",
    "list(range(0,5))"
   ]
  },
  {
   "cell_type": "code",
   "execution_count": 20,
   "id": "419f087e",
   "metadata": {},
   "outputs": [
    {
     "name": "stdout",
     "output_type": "stream",
     "text": [
      "17\n",
      "h\n",
      "o\n",
      "w\n",
      " \n",
      "d\n",
      "o\n",
      "e\n",
      "s\n",
      " \n",
      "i\n",
      "t\n",
      " \n",
      "w\n",
      "o\n",
      "r\n",
      "k\n",
      "?\n"
     ]
    }
   ],
   "source": [
    "name = \"how does it work?\"\n",
    "b = len(name)\n",
    "print(b)\n",
    "for i in range(b):\n",
    "    print(name[i])\n"
   ]
  },
  {
   "cell_type": "code",
   "execution_count": 18,
   "id": "7ff2520f",
   "metadata": {},
   "outputs": [
    {
     "name": "stdout",
     "output_type": "stream",
     "text": [
      " \n"
     ]
    }
   ],
   "source": [
    "print(name[3])"
   ]
  },
  {
   "cell_type": "markdown",
   "id": "5ad01e43",
   "metadata": {},
   "source": [
    "Lecture 12  \n",
    "for loop  \n",
    "recap, range  \n",
    "recap, array  "
   ]
  },
  {
   "cell_type": "code",
   "execution_count": 1,
   "id": "42bfbe49",
   "metadata": {},
   "outputs": [
    {
     "name": "stdout",
     "output_type": "stream",
     "text": [
      "1\n",
      "2\n",
      "3\n",
      "4\n",
      "5\n"
     ]
    }
   ],
   "source": [
    "print(1)\n",
    "print(2)\n",
    "print(3)\n",
    "print(4)\n",
    "print(5)"
   ]
  },
  {
   "cell_type": "code",
   "execution_count": 5,
   "id": "d502668c",
   "metadata": {},
   "outputs": [
    {
     "name": "stdout",
     "output_type": "stream",
     "text": [
      "1\n",
      "2\n",
      "3\n",
      "4\n",
      "5\n",
      "1000\n"
     ]
    }
   ],
   "source": [
    "i = 1\n",
    "print(i)\n",
    "i = 2\n",
    "print(i)\n",
    "i = 3\n",
    "print(i)\n",
    "i = 4\n",
    "print(i)\n",
    "i = 5\n",
    "print(i)\n",
    "\n",
    "i =1000\n",
    "print(i)"
   ]
  },
  {
   "cell_type": "code",
   "execution_count": 8,
   "id": "8be75780",
   "metadata": {},
   "outputs": [
    {
     "name": "stdout",
     "output_type": "stream",
     "text": [
      "1\n",
      "2\n",
      "3\n",
      "4\n",
      "5\n"
     ]
    }
   ],
   "source": [
    "for i in range(1,6):\n",
    "    print(i)"
   ]
  },
  {
   "cell_type": "code",
   "execution_count": 9,
   "id": "9f60a755",
   "metadata": {},
   "outputs": [
    {
     "name": "stdout",
     "output_type": "stream",
     "text": [
      "10\n",
      "11\n",
      "12\n",
      "13\n",
      "14\n",
      "15\n",
      "16\n",
      "17\n",
      "18\n",
      "19\n"
     ]
    }
   ],
   "source": [
    "for i in range(10,20):\n",
    "    print(i)\n"
   ]
  },
  {
   "cell_type": "code",
   "execution_count": 10,
   "id": "b957de1a",
   "metadata": {},
   "outputs": [
    {
     "name": "stdout",
     "output_type": "stream",
     "text": [
      "1\n",
      "3\n",
      "5\n",
      "7\n",
      "9\n"
     ]
    }
   ],
   "source": [
    "arr = [1,3,5,7,9]\n",
    "for i in arr:\n",
    "    print(i)"
   ]
  },
  {
   "cell_type": "code",
   "execution_count": 11,
   "id": "0e3d5e26",
   "metadata": {},
   "outputs": [
    {
     "name": "stdout",
     "output_type": "stream",
     "text": [
      "shenzhen\n",
      "united kingdom\n",
      "Germany\n",
      "guangzhou\n"
     ]
    }
   ],
   "source": [
    "cities = [\"shenzhen\", \"united kingdom\", \"Germany\", \"guangzhou\"]\n",
    "for b in cities:\n",
    "    print(b)"
   ]
  },
  {
   "cell_type": "code",
   "execution_count": 12,
   "id": "d79566de",
   "metadata": {},
   "outputs": [
    {
     "name": "stdout",
     "output_type": "stream",
     "text": [
      "0\n",
      "2\n",
      "4\n",
      "6\n",
      "8\n",
      "10\n",
      "12\n",
      "14\n",
      "16\n",
      "18\n",
      "20\n"
     ]
    }
   ],
   "source": [
    "Alan  =[0,2,4,6,8,10,12,14,16,18,20]\n",
    "for  c in Alan:\n",
    "    print(c)"
   ]
  },
  {
   "cell_type": "code",
   "execution_count": 13,
   "id": "7fc1ced2",
   "metadata": {},
   "outputs": [
    {
     "name": "stdout",
     "output_type": "stream",
     "text": [
      "4\n",
      "9\n",
      "16\n",
      "25\n",
      "36\n",
      "49\n",
      "64\n",
      "81\n"
     ]
    }
   ],
   "source": [
    "numbers = [2,3,4,5,6,7,8,9]\n",
    "# calculate the squares\n",
    "for i in numbers:\n",
    "    print(i*i)"
   ]
  },
  {
   "cell_type": "code",
   "execution_count": null,
   "id": "7d12f52b",
   "metadata": {},
   "outputs": [],
   "source": []
  }
 ],
 "metadata": {
  "kernelspec": {
   "display_name": "Python 3",
   "language": "python",
   "name": "python3"
  },
  "language_info": {
   "codemirror_mode": {
    "name": "ipython",
    "version": 3
   },
   "file_extension": ".py",
   "mimetype": "text/x-python",
   "name": "python",
   "nbconvert_exporter": "python",
   "pygments_lexer": "ipython3",
   "version": "3.8.8"
  }
 },
 "nbformat": 4,
 "nbformat_minor": 5
}

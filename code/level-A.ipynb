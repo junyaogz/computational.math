{
 "cells": [
  {
   "cell_type": "code",
   "execution_count": null,
   "id": "949a9d15",
   "metadata": {},
   "outputs": [],
   "source": [
    "# Lecture A-02\n",
    "# "
   ]
  },
  {
   "cell_type": "code",
   "execution_count": 10,
   "id": "3ef423f9",
   "metadata": {},
   "outputs": [
    {
     "name": "stdout",
     "output_type": "stream",
     "text": [
      "x is odd\n"
     ]
    }
   ],
   "source": [
    "# Lecture A-03\n",
    "# Check Parity of Numbers\n",
    "# 2022-02-06\n",
    "\n",
    "x = 1478965895\n",
    "\n",
    "if x%2 == 0:\n",
    "    print(\"x is even\") #偶数\n",
    "else:\n",
    "    print(\"x is odd\")  #奇数"
   ]
  },
  {
   "cell_type": "code",
   "execution_count": null,
   "id": "cc1d505c",
   "metadata": {},
   "outputs": [],
   "source": [
    "# Lecture A-04"
   ]
  },
  {
   "cell_type": "code",
   "execution_count": null,
   "id": "55e252c6",
   "metadata": {},
   "outputs": [],
   "source": [
    "# Lecture A-05"
   ]
  },
  {
   "cell_type": "code",
   "execution_count": 6,
   "id": "83f54a2c",
   "metadata": {},
   "outputs": [
    {
     "name": "stdout",
     "output_type": "stream",
     "text": [
      "11\n"
     ]
    }
   ],
   "source": [
    "# Lecture A-06\n",
    "# variable 变量\n",
    "a = 3\n",
    "b = 100\n",
    "c = b - a + 3\n",
    "print(c)"
   ]
  },
  {
   "cell_type": "code",
   "execution_count": 9,
   "id": "1f681d94",
   "metadata": {},
   "outputs": [
    {
     "data": {
      "text/plain": [
       "13"
      ]
     },
     "execution_count": 9,
     "metadata": {},
     "output_type": "execute_result"
    }
   ],
   "source": [
    "a = \"Alan\"\n",
    "b = 'Emmy'\n",
    "c = \"Ice Cream\"\n",
    "d = \"Dad is afraid\"\n",
    "# Function 函数\n",
    "# length\n",
    "len(a)\n",
    "len(c)\n",
    "len(d)\n"
   ]
  },
  {
   "cell_type": "code",
   "execution_count": null,
   "id": "8f252d73",
   "metadata": {},
   "outputs": [],
   "source": [
    "# + - *  operator 操作符\n",
    "# 3,5,9  operand  操作数\n",
    "3 + 5\n",
    "13-6+7\n"
   ]
  }
 ],
 "metadata": {
  "kernelspec": {
   "display_name": "Python 3",
   "language": "python",
   "name": "python3"
  },
  "language_info": {
   "codemirror_mode": {
    "name": "ipython",
    "version": 3
   },
   "file_extension": ".py",
   "mimetype": "text/x-python",
   "name": "python",
   "nbconvert_exporter": "python",
   "pygments_lexer": "ipython3",
   "version": "3.8.8"
  }
 },
 "nbformat": 4,
 "nbformat_minor": 5
}
